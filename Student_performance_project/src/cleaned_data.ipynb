{
  "nbformat": 4,
  "nbformat_minor": 0,
  "metadata": {
    "colab": {
      "provenance": []
    },
    "kernelspec": {
      "name": "python3",
      "display_name": "Python 3"
    },
    "language_info": {
      "name": "python"
    }
  },
  "cells": [
    {
      "cell_type": "code",
      "execution_count": 3,
      "metadata": {
        "colab": {
          "base_uri": "https://localhost:8080/"
        },
        "id": "1RRjMyLT1yJa",
        "outputId": "5a721f5b-c974-4202-f6f6-0d2f0d62fae2"
      },
      "outputs": [
        {
          "output_type": "stream",
          "name": "stdout",
          "text": [
            "Missing values in raw data:\n",
            "gender                         0\n",
            "race/ethnicity                 0\n",
            "parental level of education    0\n",
            "lunch                          0\n",
            "test preparation course        0\n",
            "math score                     0\n",
            "reading score                  0\n",
            "writing score                  0\n",
            "dtype: int64\n"
          ]
        }
      ],
      "source": [
        "import pandas as pd\n",
        "import os\n",
        "\n",
        "# Load raw data\n",
        "raw_data = pd.read_csv('/content/StudentsPerformance.csv')\n",
        "\n",
        "# Check for missing values\n",
        "print(\"Missing values in raw data:\")\n",
        "print(raw_data.isnull().sum())\n",
        "\n",
        "# Handle missing values (if any)\n",
        "cleaned_data = raw_data.dropna()\n",
        "\n",
        "# Save cleaned data\n",
        "output_folder = '/content/data_clean'\n",
        "os.makedirs(output_folder, exist_ok=True)\n",
        "cleaned_data.to_csv(os.path.join(output_folder, 'cleaned_student_performance.csv'), index=False)"
      ]
    }
  ]
}