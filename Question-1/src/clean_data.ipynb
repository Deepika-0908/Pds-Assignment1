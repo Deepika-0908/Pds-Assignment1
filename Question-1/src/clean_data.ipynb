{
  "nbformat": 4,
  "nbformat_minor": 0,
  "metadata": {
    "colab": {
      "provenance": []
    },
    "kernelspec": {
      "name": "python3",
      "display_name": "Python 3"
    },
    "language_info": {
      "name": "python"
    }
  },
  "cells": [
    {
      "cell_type": "markdown",
      "source": [],
      "metadata": {
        "id": "B_HwFRyXJ5FL"
      }
    },
    {
      "cell_type": "code",
      "source": [],
      "metadata": {
        "id": "Z0ofQHqGlMHd"
      },
      "execution_count": null,
      "outputs": []
    },
    {
      "cell_type": "code",
      "source": [
        "import pandas as pd\n",
        "import os\n",
        "\n",
        "# Step 1: Load the raw data from Excel\n",
        "file_name = 'raw_data.xlsx'  # Replace with your Excel file name\n",
        "raw_data = pd.read_excel(file_name)\n",
        "\n",
        "# Step 2: Check for missing values\n",
        "print(\"Missing values in raw data:\")\n",
        "print(raw_data.isnull().sum())\n",
        "\n",
        "# Step 3: Handle missing values (if any)\n",
        "cleaned_data = raw_data.dropna()\n",
        "\n",
        "# Step 4: Check and correct data types\n",
        "cleaned_data['Height'] = cleaned_data['Height'].astype(float)\n",
        "cleaned_data['Weight'] = cleaned_data['Weight'].astype(float)\n",
        "cleaned_data['Age'] = cleaned_data['Age'].astype(int)\n",
        "cleaned_data['Grip strength'] = cleaned_data['Grip strength'].astype(float)\n",
        "\n",
        "# Step 5: Convert 'Frailty' from 'N'/'Y' to 0/1\n",
        "cleaned_data['Frailty'] = cleaned_data['Frailty'].str.upper().map({'N': 0, 'Y': 1})\n",
        "\n",
        "# Step 6: Save the cleaned data to a new CSV file\n",
        "output_folder = 'Data_clean'\n",
        "os.makedirs(output_folder, exist_ok=True)  # Create the output folder if it doesn't exist\n",
        "output_file = os.path.join(output_folder, 'cleaned_data.csv')\n",
        "cleaned_data.to_csv(output_file, index=False)\n",
        "\n",
        "print(f\"Cleaned data saved to '{output_file}'.\")\n"
      ],
      "metadata": {
        "colab": {
          "base_uri": "https://localhost:8080/"
        },
        "id": "yHmlApJ0lcK4",
        "outputId": "ed6f98bf-4a28-48cc-bab9-07225f20d7bf"
      },
      "execution_count": 2,
      "outputs": [
        {
          "output_type": "stream",
          "name": "stdout",
          "text": [
            "Missing values in raw data:\n",
            "Height           0\n",
            "Weight           0\n",
            "Age              0\n",
            "Grip strength    0\n",
            "Frailty          0\n",
            "dtype: int64\n",
            "Cleaned data saved to 'Data_clean/cleaned_data.csv'.\n"
          ]
        }
      ]
    }
  ]
}